{
  "nbformat": 4,
  "nbformat_minor": 0,
  "metadata": {
    "colab": {
      "provenance": [],
      "authorship_tag": "ABX9TyMCYW5QGNlEtPhXjx3UfnYu",
      "include_colab_link": true
    },
    "kernelspec": {
      "name": "python3",
      "display_name": "Python 3"
    },
    "language_info": {
      "name": "python"
    }
  },
  "cells": [
    {
      "cell_type": "markdown",
      "metadata": {
        "id": "view-in-github",
        "colab_type": "text"
      },
      "source": [
        "<a href=\"https://colab.research.google.com/github/RakeshBabuMacharla/PDS-Assignment-2/blob/main/Pds_Assignment_2.ipynb\" target=\"_parent\"><img src=\"https://colab.research.google.com/assets/colab-badge.svg\" alt=\"Open In Colab\"/></a>"
      ]
    },
    {
      "cell_type": "code",
      "source": [
        "import pandas as pd\n",
        "import numpy as np\n",
        "\n",
        "# Load the dataset\n",
        "df = pd.read_csv(\"train.csv\")"
      ],
      "metadata": {
        "id": "T_RxGi9gxfhE"
      },
      "execution_count": 147,
      "outputs": []
    },
    {
      "cell_type": "markdown",
      "source": [
        "#a) Handle Missing Values\n",
        "\n",
        "\n",
        "\n",
        "\n",
        "\n"
      ],
      "metadata": {
        "id": "kCvAuE0D6YHL"
      }
    },
    {
      "cell_type": "code",
      "source": [
        "# Check missing values\n",
        "print(df.isnull().sum())"
      ],
      "metadata": {
        "colab": {
          "base_uri": "https://localhost:8080/"
        },
        "id": "s5tXpPR2zBXH",
        "outputId": "bc87fa4d-09ea-4887-a23e-f0f11f4b71fb"
      },
      "execution_count": 141,
      "outputs": [
        {
          "output_type": "stream",
          "name": "stdout",
          "text": [
            "Unnamed: 0              0\n",
            "Name                    0\n",
            "Location                0\n",
            "Year                    0\n",
            "Kilometers_Driven       0\n",
            "Fuel_Type               0\n",
            "Transmission            0\n",
            "Owner_Type              0\n",
            "Mileage                 2\n",
            "Engine                 36\n",
            "Power                  36\n",
            "Seats                  38\n",
            "New_Price            5032\n",
            "Price                   0\n",
            "dtype: int64\n"
          ]
        }
      ]
    },
    {
      "cell_type": "code",
      "source": [
        "# Handle missing values\n",
        "# Drop rows where 'Price' is missing (critical for prediction)\n",
        "df.dropna(subset=['Price'], inplace=True)\n",
        "\n",
        "# 1. Clean 'Engine' column: Remove 'CC' and convert to float\n",
        "df['Engine'] = df['Engine'].str.replace(' CC', '').astype(float)\n",
        "\n",
        "# 2. Clean 'Power' column: Remove 'bhp' and handle 'null' values\n",
        "df['Power'] = df['Power'].str.replace(' bhp', '')\n",
        "df['Power'] = pd.to_numeric(df['Power'], errors='coerce')  # Convert to numeric, invalid as NaN\n",
        "\n",
        "# 3. Clean 'Mileage' column: Extract numerical values and standardize unit\n",
        "def clean_mileage(mileage):\n",
        "    if isinstance(mileage, str):\n",
        "        if 'kmpl' in mileage:\n",
        "            return float(mileage.replace(' kmpl', ''))\n",
        "        elif 'km/kg' in mileage:\n",
        "            # Convert km/kg to kmpl (assuming 1 km/kg ≈ 1.4 kmpl for LPG/CNG)\n",
        "            return float(mileage.replace(' km/kg', '')) * 1.4\n",
        "    return np.nan  # If not a string or invalid\n",
        "\n",
        "df['Mileage'] = df['Mileage'].apply(clean_mileage)\n",
        "\n",
        "# 4. Impute numerical columns with median\n",
        "numerical_cols = ['Engine', 'Power', 'Mileage']\n",
        "for col in numerical_cols:\n",
        "    df[col] = df[col].fillna(df[col].median())\n",
        "\n",
        "# 5. Impute 'Seats' with mode (discrete value)\n",
        "df['Seats'] = df['Seats'].fillna(df['Seats'].mode()[0])\n",
        "\n",
        "# 6. Drop 'New_Price' (too many missing values)\n",
        "df.drop('New_Price', axis=1, inplace=True)\n",
        "\n",
        "# 7. Handle categorical columns (if any missing)\n",
        "categorical_cols = ['Fuel_Type', 'Transmission', 'Owner_Type']\n",
        "for col in categorical_cols:\n",
        "    df[col] = df[col].fillna(df[col].mode()[0])\n",
        "\n",
        "# Verify no missing values remain\n",
        "print(df.isnull().sum())"
      ],
      "metadata": {
        "colab": {
          "base_uri": "https://localhost:8080/"
        },
        "id": "mnnKK7W9xvg0",
        "outputId": "c59e84ba-d23b-40b9-df74-9692907364ab"
      },
      "execution_count": 142,
      "outputs": [
        {
          "output_type": "stream",
          "name": "stdout",
          "text": [
            "Unnamed: 0           0\n",
            "Name                 0\n",
            "Location             0\n",
            "Year                 0\n",
            "Kilometers_Driven    0\n",
            "Fuel_Type            0\n",
            "Transmission         0\n",
            "Owner_Type           0\n",
            "Mileage              0\n",
            "Engine               0\n",
            "Power                0\n",
            "Seats                0\n",
            "Price                0\n",
            "dtype: int64\n"
          ]
        }
      ]
    },
    {
      "cell_type": "markdown",
      "source": [
        "# b) Clean Units from Columns"
      ],
      "metadata": {
        "id": "wlj94xx48wDw"
      }
    },
    {
      "cell_type": "code",
      "source": [
        "def remove_units(column, pattern):\n",
        "    return pd.to_numeric(column.astype(str).str.replace(pattern, \"\", regex=True), errors='coerce')\n",
        "\n",
        "if \"Mileage\" in df.columns:\n",
        "    df[\"Mileage\"] = remove_units(df[\"Mileage\"], r\" kmpl| km/kg\")\n",
        "\n",
        "if \"Engine\" in df.columns:\n",
        "    df[\"Engine\"] = remove_units(df[\"Engine\"], r\" CC\")\n",
        "\n",
        "if \"Power\" in df.columns:\n",
        "    df[\"Power\"] = remove_units(df[\"Power\"], r\" bhp\")\n",
        "\n",
        "if \"New_Price\" in df.columns:\n",
        "    df[\"New_Price\"] = df[\"New_Price\"].astype(str).str.replace(\" Lakh\", \"\").str.replace(\" Cr\", \"\")\n",
        "    df[\"New_Price\"] = df[\"New_Price\"].apply(lambda x: float(x)*100 if \"Cr\" in x else float(x) if x.replace('.', '', 1).isdigit() else np.nan)\n",
        "\n",
        "    print(df[['Mileage', 'Engine', 'Power', 'New_Price']].head())"
      ],
      "metadata": {
        "id": "a0QGm68qF3N7"
      },
      "execution_count": 143,
      "outputs": []
    },
    {
      "cell_type": "markdown",
      "source": [
        "#c) One-Hot Encode Categorical Features"
      ],
      "metadata": {
        "id": "ux3r8Uyz6VaR"
      }
    },
    {
      "cell_type": "code",
      "source": [
        "# 1. Check unique categories\n",
        "print(\"Fuel_Type categories:\", df[\"Fuel_Type\"].unique())\n",
        "print(\"Transmission categories:\", df[\"Transmission\"].unique())\n",
        "\n",
        "# 2. One-hot encode 'Fuel_Type' and 'Transmission'\n",
        "df_encoded = pd.get_dummies(\n",
        "    df,\n",
        "    columns=[\"Fuel_Type\", \"Transmission\"],\n",
        "    prefix=[\"Fuel\", \"Transmission\"],\n",
        "    drop_first=False, # Keep all categories (optional)\n",
        "    dtype=int\n",
        ")\n",
        "# 3. Display the new columns\n",
        "print(df_encoded.filter(regex=\"Fuel_|Transmission_\").head())"
      ],
      "metadata": {
        "colab": {
          "base_uri": "https://localhost:8080/"
        },
        "id": "GN3X8Ywx3k-K",
        "outputId": "d5eab003-9f7d-4e44-eeab-f6afd4fef97f"
      },
      "execution_count": 144,
      "outputs": [
        {
          "output_type": "stream",
          "name": "stdout",
          "text": [
            "Fuel_Type categories: ['Diesel' 'Petrol' 'Electric']\n",
            "Transmission categories: ['Manual' 'Automatic']\n",
            "   Fuel_Diesel  Fuel_Electric  Fuel_Petrol  Transmission_Automatic  \\\n",
            "0            1              0            0                       0   \n",
            "1            0              0            1                       0   \n",
            "2            1              0            0                       0   \n",
            "3            1              0            0                       1   \n",
            "4            1              0            0                       0   \n",
            "\n",
            "   Transmission_Manual  \n",
            "0                    1  \n",
            "1                    1  \n",
            "2                    1  \n",
            "3                    0  \n",
            "4                    1  \n"
          ]
        }
      ]
    },
    {
      "cell_type": "markdown",
      "source": [
        "#d) Feature Engineering"
      ],
      "metadata": {
        "id": "G3aRCaXG6UAE"
      }
    },
    {
      "cell_type": "code",
      "source": [
        "from datetime import datetime\n",
        "# Calculate current year\n",
        "current_year = datetime.now().year\n",
        "\n",
        "# Create new feature: Car Age\n",
        "df['Car_Age'] = current_year - df['Year']\n",
        "\n",
        "# Verify the new column\n",
        "print(df[['Name', 'Year', 'Car_Age']].head())"
      ],
      "metadata": {
        "colab": {
          "base_uri": "https://localhost:8080/"
        },
        "id": "0Ppe4kW75Fde",
        "outputId": "6a269ec7-f746-48dd-93ab-e88aa63ea53a"
      },
      "execution_count": 145,
      "outputs": [
        {
          "output_type": "stream",
          "name": "stdout",
          "text": [
            "                               Name  Year  Car_Age\n",
            "0  Hyundai Creta 1.6 CRDi SX Option  2015       10\n",
            "1                      Honda Jazz V  2011       14\n",
            "2                 Maruti Ertiga VDI  2012       13\n",
            "3   Audi A4 New 2.0 TDI Multitronic  2013       12\n",
            "4            Nissan Micra Diesel XV  2013       12\n"
          ]
        }
      ]
    },
    {
      "cell_type": "markdown",
      "source": [
        "#e) Data Operations"
      ],
      "metadata": {
        "id": "xtX8kLDJ6SaL"
      }
    },
    {
      "cell_type": "code",
      "source": [
        "# Select sample columns\n",
        "selected = df[[\"Name\", \"Location\", \"Year\", \"Car_Age\", \"Price\"]].head()\n",
        "\n",
        "# Filter rows with Price > 10 Lakh\n",
        "filtered = df[df[\"Price\"] > 10].head()\n",
        "\n",
        "# rename\n",
        "df = df.rename(columns={\"Odometer\": \"Kilometers_Driven\"})\n",
        "\n",
        "# mutate (already done for Car_Age)\n",
        "\n",
        "# Sorted by Price (descending)\n",
        "sorted_df = df.sort_values(by=\"Price\", ascending=False).head()\n",
        "\n",
        "# Group by Location and summarize average Price\n",
        "grouped = df.groupby(\"Location\")[\"Price\"].mean().reset_index().sort_values(by=\"Price\", ascending=False)\n",
        "\n",
        "\n",
        "\n",
        "# Display outputs\n",
        "print(\"\\n--- Selected Columns ---\")\n",
        "print(selected)\n",
        "\n",
        "print(\"\\n--- Filtered (Price > 10 Lakh) ---\")\n",
        "print(filtered[[\"Name\", \"Location\", \"Price\"]])\n",
        "\n",
        "print(\"\\n--- Top 5 Expensive Cars ---\")\n",
        "print(sorted_df[[\"Name\", \"Location\", \"Price\"]])\n",
        "\n",
        "print(\"\\n--- Average Price by Location ---\")\n",
        "print(grouped)"
      ],
      "metadata": {
        "colab": {
          "base_uri": "https://localhost:8080/"
        },
        "id": "EbdQyO946MXF",
        "outputId": "548a74a8-985e-4f74-a70f-35773c5ffc3e"
      },
      "execution_count": 146,
      "outputs": [
        {
          "output_type": "stream",
          "name": "stdout",
          "text": [
            "\n",
            "--- Selected Columns ---\n",
            "                               Name    Location  Year  Car_Age  Price\n",
            "0  Hyundai Creta 1.6 CRDi SX Option        Pune  2015       10  12.50\n",
            "1                      Honda Jazz V     Chennai  2011       14   4.50\n",
            "2                 Maruti Ertiga VDI     Chennai  2012       13   6.00\n",
            "3   Audi A4 New 2.0 TDI Multitronic  Coimbatore  2013       12  17.74\n",
            "4            Nissan Micra Diesel XV      Jaipur  2013       12   3.50\n",
            "\n",
            "--- Filtered (Price > 10 Lakh) ---\n",
            "                                 Name    Location  Price\n",
            "0    Hyundai Creta 1.6 CRDi SX Option        Pune  12.50\n",
            "3     Audi A4 New 2.0 TDI Multitronic  Coimbatore  17.74\n",
            "5   Toyota Innova Crysta 2.8 GX AT 8S      Mumbai  17.50\n",
            "11   Land Rover Range Rover 2.2L Pure       Delhi  27.00\n",
            "12     Land Rover Freelander 2 TD4 SE        Pune  17.50\n",
            "\n",
            "--- Top 5 Expensive Cars ---\n",
            "                                             Name    Location   Price\n",
            "3952  Land Rover Range Rover 3.0 Diesel LWB Vogue   Hyderabad  160.00\n",
            "5620                   Lamborghini Gallardo Coupe       Delhi  120.00\n",
            "5752                       Jaguar F Type 5.0 V8 S   Hyderabad  100.00\n",
            "1457              Land Rover Range Rover Sport SE       Kochi   97.07\n",
            "1917                           BMW 7 Series 740Li  Coimbatore   93.67\n",
            "\n",
            "--- Average Price by Location ---\n",
            "      Location      Price\n",
            "3   Coimbatore  15.160206\n",
            "1    Bangalore  13.482670\n",
            "7        Kochi  11.309109\n",
            "5    Hyderabad   9.997423\n",
            "4        Delhi   9.881944\n",
            "9       Mumbai   9.592546\n",
            "0    Ahmedabad   8.567248\n",
            "2      Chennai   7.958340\n",
            "10        Pune   6.951000\n",
            "6       Jaipur   5.916725\n",
            "8      Kolkata   5.733924\n"
          ]
        }
      ]
    }
  ]
}